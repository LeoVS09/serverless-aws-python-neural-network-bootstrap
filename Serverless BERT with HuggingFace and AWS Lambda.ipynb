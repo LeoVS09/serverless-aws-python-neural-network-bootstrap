{
 "cells": [
  {
   "cell_type": "markdown",
   "id": "6c354236",
   "metadata": {},
   "source": [
    "# Serverless BERT with HuggingFace and AWS Lambda\n",
    "\n",
    "## Basic imports"
   ]
  },
  {
   "cell_type": "code",
   "execution_count": 1,
   "id": "a42b4983",
   "metadata": {},
   "outputs": [
    {
     "data": {
      "text/html": [
       "        <script type=\"text/javascript\">\n",
       "        window.PlotlyConfig = {MathJaxConfig: 'local'};\n",
       "        if (window.MathJax) {MathJax.Hub.Config({SVG: {font: \"STIX-Web\"}});}\n",
       "        if (typeof require !== 'undefined') {\n",
       "        require.undef(\"plotly\");\n",
       "        requirejs.config({\n",
       "            paths: {\n",
       "                'plotly': ['https://cdn.plot.ly/plotly-2.2.0.min']\n",
       "            }\n",
       "        });\n",
       "        require(['plotly'], function(Plotly) {\n",
       "            window._Plotly = Plotly;\n",
       "        });\n",
       "        }\n",
       "        </script>\n",
       "        "
      ]
     },
     "metadata": {},
     "output_type": "display_data"
    },
    {
     "data": {
      "text/html": [
       "        <script type=\"text/javascript\">\n",
       "        window.PlotlyConfig = {MathJaxConfig: 'local'};\n",
       "        if (window.MathJax) {MathJax.Hub.Config({SVG: {font: \"STIX-Web\"}});}\n",
       "        if (typeof require !== 'undefined') {\n",
       "        require.undef(\"plotly\");\n",
       "        requirejs.config({\n",
       "            paths: {\n",
       "                'plotly': ['https://cdn.plot.ly/plotly-2.2.0.min']\n",
       "            }\n",
       "        });\n",
       "        require(['plotly'], function(Plotly) {\n",
       "            window._Plotly = Plotly;\n",
       "        });\n",
       "        }\n",
       "        </script>\n",
       "        "
      ]
     },
     "metadata": {},
     "output_type": "display_data"
    }
   ],
   "source": [
    "# plotly standard imports\n",
    "import plotly.graph_objs as go\n",
    "import chart_studio.plotly as py\n",
    "\n",
    "# Cufflinks wrapper on plotly\n",
    "import cufflinks\n",
    "\n",
    "# Data science imports\n",
    "import pandas as pd\n",
    "import numpy as np\n",
    "\n",
    "# Options for pandas\n",
    "pd.options.display.max_columns = 30\n",
    "\n",
    "# Display all cell outputs\n",
    "from IPython.core.interactiveshell import InteractiveShell\n",
    "InteractiveShell.ast_node_interactivity = 'all'\n",
    "\n",
    "from plotly.offline import iplot, init_notebook_mode\n",
    "cufflinks.go_offline(connected=True)\n",
    "init_notebook_mode(connected=True)\n",
    "\n",
    "# Set global theme\n",
    "cufflinks.set_config_file(world_readable=True, theme='pearl')"
   ]
  },
  {
   "cell_type": "markdown",
   "id": "cd21e8f7",
   "metadata": {},
   "source": [
    "## Params"
   ]
  },
  {
   "cell_type": "code",
   "execution_count": 1,
   "id": "23980415",
   "metadata": {},
   "outputs": [],
   "source": [
    "cache_dir = './models'\n",
    "pretrained_dir = './trained_model'\n",
    "model_pack_name = 'squad-distilbert'\n",
    "s3_bucket = 'neural-networks-model-example'\n",
    "s3_filename = 'squad-distilbert/en.tar.gz'"
   ]
  },
  {
   "cell_type": "markdown",
   "id": "f74a10d0",
   "metadata": {},
   "source": [
    "## Prepare model"
   ]
  },
  {
   "cell_type": "code",
   "execution_count": 3,
   "id": "a256cde0",
   "metadata": {},
   "outputs": [],
   "source": [
    "from transformers import DistilBertTokenizer, DistilBertForQuestionAnswering\n",
    "from src.QuestionAnsweringModel import QuestionAnsweringModel\n",
    "\n",
    "model = QuestionAnsweringModel(\n",
    "    model = DistilBertForQuestionAnswering.from_pretrained('distilbert-base-uncased-distilled-squad', cache_dir=cache_dir),\n",
    "    tokenizer = DistilBertTokenizer.from_pretrained('distilbert-base-uncased',return_token_type_ids = True, cache_dir=cache_dir)\n",
    ")"
   ]
  },
  {
   "cell_type": "markdown",
   "id": "c76c12fc",
   "metadata": {},
   "source": [
    "## Check model"
   ]
  },
  {
   "cell_type": "code",
   "execution_count": 2,
   "id": "e5973d6e",
   "metadata": {},
   "outputs": [],
   "source": [
    "context = \"\"\"We introduce a new language representation model called BERT, which stands for\n",
    "Bidirectional Encoder Representations from Transformers. Unlike recent language\n",
    "representation models (Peters et al., 2018a; Radford et al., 2018), BERT is\n",
    "designed to pretrain deep bidirectional representations from unlabeled text by\n",
    "jointly conditioning on both left and right context in all layers. As a result,\n",
    "the pre-trained BERT model can be finetuned with just one additional output\n",
    "layer to create state-of-the-art models for a wide range of tasks, such as\n",
    "question answering and language inference, without substantial taskspecific\n",
    "architecture modifications. BERT is conceptually simple and empirically\n",
    "powerful. It obtains new state-of-the-art results on eleven natural language\n",
    "processing tasks, including pushing the GLUE score to 80.5% (7.7% point absolute\n",
    "improvement), MultiNLI accuracy to 86.7% (4.6% absolute improvement), SQuAD v1.1\n",
    "question answering Test F1 to 93.2 (1.5 point absolute improvement) and SQuAD\n",
    "v2.0 Test F1 to 83.1 (5.1 point absolute improvement).\"\"\"\n",
    "\n",
    "questions = [\"What is BERTs best score on Squadv2 ?\", \"What does the 'B' in BERT stand for?\"]\n"
   ]
  },
  {
   "cell_type": "code",
   "execution_count": 5,
   "id": "343e3622",
   "metadata": {},
   "outputs": [
    {
     "name": "stdout",
     "output_type": "stream",
     "text": [
      "Question: What is BERTs best score on Squadv2 ? \n",
      "Answer: 83 . 1 \n",
      "\n",
      "Question: What does the 'B' in BERT stand for? \n",
      "Answer: bidirectional encoder representations from transformers \n",
      "\n"
     ]
    }
   ],
   "source": [
    "\n",
    "for question in questions:\n",
    "    answer = model.predict(question, context)\n",
    "    print('Question:', question, '\\nAnswer:', answer, '\\n')"
   ]
  },
  {
   "cell_type": "code",
   "execution_count": 6,
   "id": "46319782",
   "metadata": {},
   "outputs": [
    {
     "data": {
      "text/plain": [
       "'We introduce a new language representation model called BERT, which stands for\\nBidirectional Encoder Representations from Transformers. Unlike recent language\\nrepresentation models (Peters et al., 2018a; Radford et al., 2018), BERT is\\ndesigned to pretrain deep bidirectional representations from unlabeled text by\\njointly conditioning on both left and right context in all layers. As a result,\\nthe pre-trained BERT model can be finetuned with just one additional output\\nlayer to create state-of-the-art models for a wide range of tasks, such as\\nquestion answering and language inference, without substantial taskspecific\\narchitecture modifications. BERT is conceptually simple and empirically\\npowerful. It obtains new state-of-the-art results on eleven natural language\\nprocessing tasks, including pushing the GLUE score to 80.5% (7.7% point absolute\\nimprovement), MultiNLI accuracy to 86.7% (4.6% absolute improvement), SQuAD v1.1\\nquestion answering Test F1 to 93.2 (1.5 point absolute improvement) and SQuAD\\nv2.0 Test F1 to 83.1 (5.1 point absolute improvement).'"
      ]
     },
     "execution_count": 6,
     "metadata": {},
     "output_type": "execute_result"
    }
   ],
   "source": [
    "context"
   ]
  },
  {
   "cell_type": "markdown",
   "id": "a9f12913",
   "metadata": {},
   "source": [
    "## Save and Pack model"
   ]
  },
  {
   "cell_type": "code",
   "execution_count": 7,
   "id": "25b829f0",
   "metadata": {},
   "outputs": [
    {
     "data": {
      "text/plain": [
       "('./trained_model/tokenizer_config.json',\n",
       " './trained_model/special_tokens_map.json',\n",
       " './trained_model/vocab.txt',\n",
       " './trained_model/added_tokens.json')"
      ]
     },
     "execution_count": 7,
     "metadata": {},
     "output_type": "execute_result"
    }
   ],
   "source": [
    "DistilBertTokenizer.from_pretrained('distilbert-base-uncased',return_token_type_ids = True, cache_dir=cache_dir) \\\n",
    "    .save_pretrained(pretrained_dir)\n",
    "DistilBertForQuestionAnswering.from_pretrained('distilbert-base-uncased-distilled-squad', cache_dir=cache_dir) \\\n",
    "    .save_pretrained(pretrained_dir)"
   ]
  },
  {
   "cell_type": "code",
   "execution_count": 8,
   "id": "b93e1129",
   "metadata": {},
   "outputs": [
    {
     "name": "stdout",
     "output_type": "stream",
     "text": [
      "model packed to /app/squad-distilbert.tar.gz\n"
     ]
    }
   ],
   "source": [
    "import os\n",
    "import tarfile\n",
    "\n",
    "def pack_model(model_path='',file_name=''):\n",
    "    files = [files for root, dirs, files in os.walk(model_path)][0]\n",
    "    \n",
    "    with tarfile.open(file_name+ '.tar.gz', 'w:gz') as f:\n",
    "        for file in files:\n",
    "            f.add(f'{model_path}/{file}')\n",
    "    \n",
    "    return f\"{os.getcwd()}/{file_name}.tar.gz\"\n",
    "\n",
    "model_filename = pack_model(pretrained_dir, model_pack_name)\n",
    "print('model packed to', model_filename)"
   ]
  },
  {
   "cell_type": "markdown",
   "id": "0df50a70",
   "metadata": {},
   "source": [
    "## Check model loading"
   ]
  },
  {
   "cell_type": "code",
   "execution_count": 3,
   "id": "fb4bf370",
   "metadata": {},
   "outputs": [],
   "source": [
    "from transformers import AutoTokenizer, AutoConfig\n",
    "\n",
    "config = AutoConfig.from_pretrained(f'{pretrained_dir}/config.json')\n",
    "tokenizer = AutoTokenizer.from_pretrained(pretrained_dir, use_fast=False)"
   ]
  },
  {
   "cell_type": "markdown",
   "id": "bcdf22af",
   "metadata": {},
   "source": [
    "## Upload model"
   ]
  },
  {
   "cell_type": "code",
   "execution_count": 10,
   "id": "66551129",
   "metadata": {},
   "outputs": [],
   "source": [
    "import boto3\n",
    "\n",
    "\n",
    "def upload_model(model_path='', s3_bucket='', s3_filename='', aws_profile='default'):\n",
    "    s3 = boto3.session.Session(profile_name=aws_profile)\n",
    "    client = s3.client('s3')\n",
    "    return client.upload_file(model_path, s3_bucket, s3_filename)\n",
    "    \n",
    "upload_model(model_filename, s3_bucket, s3_filename)"
   ]
  },
  {
   "cell_type": "code",
   "execution_count": 3,
   "id": "5b451165",
   "metadata": {},
   "outputs": [
    {
     "data": {
      "text/plain": [
       "'bidirectional encoder representations from transformers'"
      ]
     },
     "execution_count": 3,
     "metadata": {},
     "output_type": "execute_result"
    }
   ],
   "source": [
    "from src.predict_answer import predict_answer\n",
    "\n",
    "predict_answer(questions[1], context)"
   ]
  },
  {
   "cell_type": "code",
   "execution_count": 1,
   "id": "0345b30c",
   "metadata": {},
   "outputs": [
    {
     "name": "stdout",
     "output_type": "stream",
     "text": [
      "Loaded tokenizer: PreTrainedTokenizerFast(name_or_path='./trained_model', vocab_size=30522, model_max_len=512, is_fast=True, padding_side='right', special_tokens={'unk_token': '[UNK]', 'sep_token': '[SEP]', 'pad_token': '[PAD]', 'cls_token': '[CLS]', 'mask_token': '[MASK]'})\n"
     ]
    }
   ],
   "source": [
    "from src.S3QAModel import S3QAModel\n",
    "\n",
    "model = S3QAModel('./trained_model', 'neural-networks-model-example', 'squad-distilbert/en.tar.gz')"
   ]
  },
  {
   "cell_type": "code",
   "execution_count": null,
   "id": "a47fadf6",
   "metadata": {},
   "outputs": [],
   "source": []
  }
 ],
 "metadata": {
  "kernelspec": {
   "display_name": "Python 3",
   "language": "python",
   "name": "python3"
  },
  "language_info": {
   "codemirror_mode": {
    "name": "ipython",
    "version": 3
   },
   "file_extension": ".py",
   "mimetype": "text/x-python",
   "name": "python",
   "nbconvert_exporter": "python",
   "pygments_lexer": "ipython3",
   "version": "3.6.9"
  }
 },
 "nbformat": 4,
 "nbformat_minor": 5
}
