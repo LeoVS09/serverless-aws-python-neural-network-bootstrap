{
 "cells": [
  {
   "cell_type": "markdown",
   "id": "6c354236",
   "metadata": {},
   "source": [
    "# Serverless BERT with HuggingFace and AWS Lambda"
   ]
  },
  {
   "cell_type": "code",
   "execution_count": null,
   "id": "a42b4983",
   "metadata": {},
   "outputs": [],
   "source": []
  }
 ],
 "metadata": {
  "kernelspec": {
   "display_name": "Python 3 (ipykernel)",
   "language": "python",
   "name": "python3"
  }
 },
 "nbformat": 4,
 "nbformat_minor": 5
}
