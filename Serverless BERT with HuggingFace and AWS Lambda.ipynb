{
 "cells": [
  {
   "cell_type": "markdown",
   "id": "6c354236",
   "metadata": {},
   "source": [
    "# Serverless BERT with HuggingFace and AWS Lambda\n",
    "\n",
    "## Basic imports"
   ]
  },
  {
   "cell_type": "code",
   "execution_count": 2,
   "id": "a42b4983",
   "metadata": {},
   "outputs": [
    {
     "data": {
      "text/html": [
       "        <script type=\"text/javascript\">\n",
       "        window.PlotlyConfig = {MathJaxConfig: 'local'};\n",
       "        if (window.MathJax) {MathJax.Hub.Config({SVG: {font: \"STIX-Web\"}});}\n",
       "        if (typeof require !== 'undefined') {\n",
       "        require.undef(\"plotly\");\n",
       "        requirejs.config({\n",
       "            paths: {\n",
       "                'plotly': ['https://cdn.plot.ly/plotly-2.2.0.min']\n",
       "            }\n",
       "        });\n",
       "        require(['plotly'], function(Plotly) {\n",
       "            window._Plotly = Plotly;\n",
       "        });\n",
       "        }\n",
       "        </script>\n",
       "        "
      ]
     },
     "metadata": {},
     "output_type": "display_data"
    },
    {
     "data": {
      "text/html": [
       "        <script type=\"text/javascript\">\n",
       "        window.PlotlyConfig = {MathJaxConfig: 'local'};\n",
       "        if (window.MathJax) {MathJax.Hub.Config({SVG: {font: \"STIX-Web\"}});}\n",
       "        if (typeof require !== 'undefined') {\n",
       "        require.undef(\"plotly\");\n",
       "        requirejs.config({\n",
       "            paths: {\n",
       "                'plotly': ['https://cdn.plot.ly/plotly-2.2.0.min']\n",
       "            }\n",
       "        });\n",
       "        require(['plotly'], function(Plotly) {\n",
       "            window._Plotly = Plotly;\n",
       "        });\n",
       "        }\n",
       "        </script>\n",
       "        "
      ]
     },
     "metadata": {},
     "output_type": "display_data"
    }
   ],
   "source": [
    "# plotly standard imports\n",
    "import plotly.graph_objs as go\n",
    "import chart_studio.plotly as py\n",
    "\n",
    "# Cufflinks wrapper on plotly\n",
    "import cufflinks\n",
    "\n",
    "# Data science imports\n",
    "import pandas as pd\n",
    "import numpy as np\n",
    "\n",
    "# Options for pandas\n",
    "pd.options.display.max_columns = 30\n",
    "\n",
    "# Display all cell outputs\n",
    "from IPython.core.interactiveshell import InteractiveShell\n",
    "InteractiveShell.ast_node_interactivity = 'all'\n",
    "\n",
    "from plotly.offline import iplot, init_notebook_mode\n",
    "cufflinks.go_offline(connected=True)\n",
    "init_notebook_mode(connected=True)\n",
    "\n",
    "# Set global theme\n",
    "cufflinks.set_config_file(world_readable=True, theme='pearl')"
   ]
  },
  {
   "cell_type": "markdown",
   "id": "6c09c8c8",
   "metadata": {},
   "source": [
    "## Params"
   ]
  },
  {
   "cell_type": "code",
   "execution_count": 13,
   "id": "60b07650",
   "metadata": {},
   "outputs": [],
   "source": [
    "cache_dir = './models'\n",
    "pretrained_dir = './trained_model'\n",
    "model_pack_name = 'squad-distilbert'\n",
    "s3_bucket = 'neural-networks-model-example'\n",
    "s3_filename = 'squad-distilbert/en.tar.gz'"
   ]
  },
  {
   "cell_type": "markdown",
   "id": "a3c6810b",
   "metadata": {},
   "source": [
    "## Prepare model"
   ]
  },
  {
   "cell_type": "code",
   "execution_count": 5,
   "id": "1bc2862b",
   "metadata": {},
   "outputs": [
    {
     "data": {
      "application/vnd.jupyter.widget-view+json": {
       "model_id": "b60436e94be84ca28897c89106c8209c",
       "version_major": 2,
       "version_minor": 0
      },
      "text/plain": [
       "Downloading:   0%|          | 0.00/232k [00:00<?, ?B/s]"
      ]
     },
     "metadata": {},
     "output_type": "display_data"
    },
    {
     "data": {
      "application/vnd.jupyter.widget-view+json": {
       "model_id": "5288494174934b0584783e01e9911b9b",
       "version_major": 2,
       "version_minor": 0
      },
      "text/plain": [
       "Downloading:   0%|          | 0.00/28.0 [00:00<?, ?B/s]"
      ]
     },
     "metadata": {},
     "output_type": "display_data"
    },
    {
     "data": {
      "application/vnd.jupyter.widget-view+json": {
       "model_id": "7f0a31f692b343959e714c0f2e4e3e3b",
       "version_major": 2,
       "version_minor": 0
      },
      "text/plain": [
       "Downloading:   0%|          | 0.00/466k [00:00<?, ?B/s]"
      ]
     },
     "metadata": {},
     "output_type": "display_data"
    },
    {
     "data": {
      "application/vnd.jupyter.widget-view+json": {
       "model_id": "5b5d57ede73b42c2b37eb389d2e5d417",
       "version_major": 2,
       "version_minor": 0
      },
      "text/plain": [
       "Downloading:   0%|          | 0.00/451 [00:00<?, ?B/s]"
      ]
     },
     "metadata": {},
     "output_type": "display_data"
    },
    {
     "data": {
      "application/vnd.jupyter.widget-view+json": {
       "model_id": "e0f8ddaf8c464f169d6bc9d0063f6e5a",
       "version_major": 2,
       "version_minor": 0
      },
      "text/plain": [
       "Downloading:   0%|          | 0.00/265M [00:00<?, ?B/s]"
      ]
     },
     "metadata": {},
     "output_type": "display_data"
    }
   ],
   "source": [
    "from transformers import DistilBertTokenizer, DistilBertForQuestionAnswering\n",
    "import torch\n",
    "\n",
    "\n",
    "class QuestionAnsweringModel:\n",
    "    def __init__(self):\n",
    "        self.tokenizer = DistilBertTokenizer.from_pretrained('distilbert-base-uncased',return_token_type_ids = True, cache_dir=cache_dir)\n",
    "        self.model = DistilBertForQuestionAnswering.from_pretrained('distilbert-base-uncased-distilled-squad', cache_dir=cache_dir)\n",
    "    \n",
    "    def encode(self,question,context):\n",
    "        encoded = self.tokenizer.encode_plus(question, context)\n",
    "        return encoded[\"input_ids\"], encoded[\"attention_mask\"]\n",
    "\n",
    "    def decode(self,token):\n",
    "        answer_tokens = self.tokenizer.convert_ids_to_tokens(token , skip_special_tokens=True)\n",
    "        return self.tokenizer.convert_tokens_to_string(answer_tokens)\n",
    "\n",
    "    def predict(self,question,context):\n",
    "        input_ids, attention_mask = self.encode(question,context)\n",
    "        start_scores, end_scores = self.model(torch.tensor([input_ids]), attention_mask=torch.tensor([attention_mask])).values()\n",
    "        ans_tokens = input_ids[torch.argmax(start_scores) : torch.argmax(end_scores)+1]\n",
    "        answer = self.decode(ans_tokens)\n",
    "        return answer\n",
    "\n",
    "model = QuestionAnsweringModel()"
   ]
  },
  {
   "cell_type": "markdown",
   "id": "a8962bb4",
   "metadata": {},
   "source": [
    "## Check model"
   ]
  },
  {
   "cell_type": "code",
   "execution_count": 7,
   "id": "489eb5d3",
   "metadata": {},
   "outputs": [
    {
     "name": "stdout",
     "output_type": "stream",
     "text": [
      "Question: What is BERTs best score on Squadv2 ? \n",
      "Answer: 83 . 1 \n",
      "\n",
      "Question: What does the 'B' in BERT stand for? \n",
      "Answer: bidirectional encoder representations from transformers \n",
      "\n"
     ]
    }
   ],
   "source": [
    "context = \"\"\"We introduce a new language representation model called BERT, which stands for\n",
    "Bidirectional Encoder Representations from Transformers. Unlike recent language\n",
    "representation models (Peters et al., 2018a; Radford et al., 2018), BERT is\n",
    "designed to pretrain deep bidirectional representations from unlabeled text by\n",
    "jointly conditioning on both left and right context in all layers. As a result,\n",
    "the pre-trained BERT model can be finetuned with just one additional output\n",
    "layer to create state-of-the-art models for a wide range of tasks, such as\n",
    "question answering and language inference, without substantial taskspecific\n",
    "architecture modifications. BERT is conceptually simple and empirically\n",
    "powerful. It obtains new state-of-the-art results on eleven natural language\n",
    "processing tasks, including pushing the GLUE score to 80.5% (7.7% point absolute\n",
    "improvement), MultiNLI accuracy to 86.7% (4.6% absolute improvement), SQuAD v1.1\n",
    "question answering Test F1 to 93.2 (1.5 point absolute improvement) and SQuAD\n",
    "v2.0 Test F1 to 83.1 (5.1 point absolute improvement).\"\"\"\n",
    "\n",
    "questions = [\"What is BERTs best score on Squadv2 ?\", \"What does the 'B' in BERT stand for?\"]\n",
    "\n",
    "for question in questions:\n",
    "    answer = model.predict(question, context)\n",
    "    print('Question:', question, '\\nAnswer:', answer, '\\n')"
   ]
  },
  {
   "cell_type": "code",
   "execution_count": 15,
   "id": "637ac60d",
   "metadata": {},
   "outputs": [
    {
     "data": {
      "text/plain": [
       "'We introduce a new language representation model called BERT, which stands for\\nBidirectional Encoder Representations from Transformers. Unlike recent language\\nrepresentation models (Peters et al., 2018a; Radford et al., 2018), BERT is\\ndesigned to pretrain deep bidirectional representations from unlabeled text by\\njointly conditioning on both left and right context in all layers. As a result,\\nthe pre-trained BERT model can be finetuned with just one additional output\\nlayer to create state-of-the-art models for a wide range of tasks, such as\\nquestion answering and language inference, without substantial taskspecific\\narchitecture modifications. BERT is conceptually simple and empirically\\npowerful. It obtains new state-of-the-art results on eleven natural language\\nprocessing tasks, including pushing the GLUE score to 80.5% (7.7% point absolute\\nimprovement), MultiNLI accuracy to 86.7% (4.6% absolute improvement), SQuAD v1.1\\nquestion answering Test F1 to 93.2 (1.5 point absolute improvement) and SQuAD\\nv2.0 Test F1 to 83.1 (5.1 point absolute improvement).'"
      ]
     },
     "execution_count": 15,
     "metadata": {},
     "output_type": "execute_result"
    }
   ],
   "source": [
    "context"
   ]
  },
  {
   "cell_type": "markdown",
   "id": "1360e579",
   "metadata": {},
   "source": [
    "## Save and Pack model"
   ]
  },
  {
   "cell_type": "code",
   "execution_count": 9,
   "id": "4eeda5a1",
   "metadata": {},
   "outputs": [
    {
     "data": {
      "text/plain": [
       "('./trained_model/tokenizer_config.json',\n",
       " './trained_model/special_tokens_map.json',\n",
       " './trained_model/vocab.txt',\n",
       " './trained_model/added_tokens.json')"
      ]
     },
     "execution_count": 9,
     "metadata": {},
     "output_type": "execute_result"
    }
   ],
   "source": [
    "DistilBertTokenizer.from_pretrained('distilbert-base-uncased',return_token_type_ids = True, cache_dir=cache_dir) \\\n",
    "    .save_pretrained(pretrained_dir)\n",
    "DistilBertForQuestionAnswering.from_pretrained('distilbert-base-uncased-distilled-squad', cache_dir=cache_dir) \\\n",
    "    .save_pretrained(pretrained_dir)"
   ]
  },
  {
   "cell_type": "code",
   "execution_count": 12,
   "id": "2f08801b",
   "metadata": {},
   "outputs": [
    {
     "name": "stdout",
     "output_type": "stream",
     "text": [
      "model packed to /app/squad-distilbert.tar.gz\n"
     ]
    }
   ],
   "source": [
    "import os\n",
    "import tarfile\n",
    "\n",
    "def pack_model(model_path='',file_name=''):\n",
    "    files = [files for root, dirs, files in os.walk(model_path)][0]\n",
    "    \n",
    "    with tarfile.open(file_name+ '.tar.gz', 'w:gz') as f:\n",
    "        for file in files:\n",
    "            f.add(f'{model_path}/{file}')\n",
    "    \n",
    "    return f\"{os.getcwd()}/{file_name}.tar.gz\"\n",
    "\n",
    "model_filename = pack_model(pretrained_dir, model_pack_name)\n",
    "print('model packed to', model_filename)"
   ]
  },
  {
   "cell_type": "markdown",
   "id": "de3de253",
   "metadata": {},
   "source": [
    "## Upload model"
   ]
  },
  {
   "cell_type": "code",
   "execution_count": 16,
   "id": "3e459b5e",
   "metadata": {},
   "outputs": [],
   "source": [
    "import boto3\n",
    "\n",
    "\n",
    "def upload_model(model_path='', s3_bucket='', s3_filename='', aws_profile='default'):\n",
    "    s3 = boto3.session.Session(profile_name=aws_profile)\n",
    "    client = s3.client('s3')\n",
    "    return client.upload_file(model_path, s3_bucket, s3_filename)\n",
    "    \n",
    "upload_model(model_filename, s3_bucket, s3_filename)"
   ]
  },
  {
   "cell_type": "code",
   "execution_count": null,
   "id": "d027fac3",
   "metadata": {},
   "outputs": [],
   "source": []
  }
 ],
 "metadata": {
  "kernelspec": {
   "display_name": "Python 3",
   "language": "python",
   "name": "python3"
  },
  "language_info": {
   "codemirror_mode": {
    "name": "ipython",
    "version": 3
   },
   "file_extension": ".py",
   "mimetype": "text/x-python",
   "name": "python",
   "nbconvert_exporter": "python",
   "pygments_lexer": "ipython3",
   "version": "3.6.9"
  }
 },
 "nbformat": 4,
 "nbformat_minor": 5
}
